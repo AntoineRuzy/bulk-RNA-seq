{
 "cells": [
  {
   "cell_type": "markdown",
   "metadata": {},
   "source": [
    "# Task 1: Bulk RNA-seq data analysis\n",
    "## Notebook 2: DESeq Analysis\n",
    "\n",
    "\n",
    "Comparative & Regulatory Genomics - [I0U29a] | Task 1 - Bulk RNA-seq data analysis | Antoine Ruzette <b> r0829308 </b> | 19.12.2021\n",
    "\n",
    "Based on the DESeq jupyter notebook from Prof. Stein Aerts. \n"
   ]
  },
  {
   "cell_type": "code",
   "execution_count": 101,
   "metadata": {},
   "outputs": [],
   "source": [
    "#NOTE THAT WE ARE ON R NOW!!\n",
    "library(\"DESeq2\")\n",
    "library(scales)\n",
    "options(repr.plot.width=4, repr.plot.height=3)\n",
    "#load the DESeq library"
   ]
  },
  {
   "cell_type": "markdown",
   "metadata": {},
   "source": [
    "### Exploration and data pre-processing"
   ]
  },
  {
   "cell_type": "code",
   "execution_count": 102,
   "metadata": {},
   "outputs": [],
   "source": [
    "matrixFile = path.expand(\"all.gene.counts\")"
   ]
  },
  {
   "cell_type": "code",
   "execution_count": 159,
   "metadata": {},
   "outputs": [
    {
     "data": {
      "text/html": [
       "<table>\n",
       "<caption>A matrix: 6 × 4 of type int</caption>\n",
       "<thead>\n",
       "\t<tr><th></th><th scope=col>SRR13516818_1.fastq.bam</th><th scope=col>SRR13516819_1.fastq.bam</th><th scope=col>SRR13516821_1.fastq.bam</th><th scope=col>SRR13516823_1.fastq.bam</th></tr>\n",
       "</thead>\n",
       "<tbody>\n",
       "\t<tr><th scope=row>MIR1302-11</th><td>0</td><td>0</td><td>0</td><td>0</td></tr>\n",
       "\t<tr><th scope=row>FAM138A</th><td>0</td><td>0</td><td>0</td><td>0</td></tr>\n",
       "\t<tr><th scope=row>OR4F5</th><td>0</td><td>0</td><td>0</td><td>0</td></tr>\n",
       "\t<tr><th scope=row>RP11-34P13.7</th><td>0</td><td>0</td><td>0</td><td>0</td></tr>\n",
       "\t<tr><th scope=row>RP11-34P13.8</th><td>0</td><td>0</td><td>0</td><td>0</td></tr>\n",
       "\t<tr><th scope=row>AL627309.1</th><td>0</td><td>0</td><td>0</td><td>0</td></tr>\n",
       "</tbody>\n",
       "</table>\n"
      ],
      "text/latex": [
       "A matrix: 6 × 4 of type int\n",
       "\\begin{tabular}{r|llll}\n",
       "  & SRR13516818\\_1.fastq.bam & SRR13516819\\_1.fastq.bam & SRR13516821\\_1.fastq.bam & SRR13516823\\_1.fastq.bam\\\\\n",
       "\\hline\n",
       "\tMIR1302-11 & 0 & 0 & 0 & 0\\\\\n",
       "\tFAM138A & 0 & 0 & 0 & 0\\\\\n",
       "\tOR4F5 & 0 & 0 & 0 & 0\\\\\n",
       "\tRP11-34P13.7 & 0 & 0 & 0 & 0\\\\\n",
       "\tRP11-34P13.8 & 0 & 0 & 0 & 0\\\\\n",
       "\tAL627309.1 & 0 & 0 & 0 & 0\\\\\n",
       "\\end{tabular}\n"
      ],
      "text/markdown": [
       "\n",
       "A matrix: 6 × 4 of type int\n",
       "\n",
       "| <!--/--> | SRR13516818_1.fastq.bam | SRR13516819_1.fastq.bam | SRR13516821_1.fastq.bam | SRR13516823_1.fastq.bam |\n",
       "|---|---|---|---|---|\n",
       "| MIR1302-11 | 0 | 0 | 0 | 0 |\n",
       "| FAM138A | 0 | 0 | 0 | 0 |\n",
       "| OR4F5 | 0 | 0 | 0 | 0 |\n",
       "| RP11-34P13.7 | 0 | 0 | 0 | 0 |\n",
       "| RP11-34P13.8 | 0 | 0 | 0 | 0 |\n",
       "| AL627309.1 | 0 | 0 | 0 | 0 |\n",
       "\n"
      ],
      "text/plain": [
       "             SRR13516818_1.fastq.bam SRR13516819_1.fastq.bam\n",
       "MIR1302-11   0                       0                      \n",
       "FAM138A      0                       0                      \n",
       "OR4F5        0                       0                      \n",
       "RP11-34P13.7 0                       0                      \n",
       "RP11-34P13.8 0                       0                      \n",
       "AL627309.1   0                       0                      \n",
       "             SRR13516821_1.fastq.bam SRR13516823_1.fastq.bam\n",
       "MIR1302-11   0                       0                      \n",
       "FAM138A      0                       0                      \n",
       "OR4F5        0                       0                      \n",
       "RP11-34P13.7 0                       0                      \n",
       "RP11-34P13.8 0                       0                      \n",
       "AL627309.1   0                       0                      "
      ]
     },
     "metadata": {},
     "output_type": "display_data"
    },
    {
     "data": {
      "text/html": [
       "41863"
      ],
      "text/latex": [
       "41863"
      ],
      "text/markdown": [
       "41863"
      ],
      "text/plain": [
       "[1] 41863"
      ]
     },
     "metadata": {},
     "output_type": "display_data"
    }
   ],
   "source": [
    "countData <- as.matrix(read.csv(matrixFile, sep=\"\\t\", row.names=\"Geneid\"))\n",
    "head(countData)\n",
    "nrow(countData)"
   ]
  },
  {
   "cell_type": "markdown",
   "metadata": {},
   "source": [
    "Let's check a single gene, i.e MTOR: "
   ]
  },
  {
   "cell_type": "code",
   "execution_count": 105,
   "metadata": {},
   "outputs": [
    {
     "data": {
      "text/html": [
       "<style>\n",
       ".dl-inline {width: auto; margin:0; padding: 0}\n",
       ".dl-inline>dt, .dl-inline>dd {float: none; width: auto; display: inline-block}\n",
       ".dl-inline>dt::after {content: \":\\0020\"; padding-right: .5ex}\n",
       ".dl-inline>dt:not(:first-of-type) {padding-left: .5ex}\n",
       "</style><dl class=dl-inline><dt>SRR13516818_1.fastq.bam</dt><dd>2602</dd><dt>SRR13516819_1.fastq.bam</dt><dd>3425</dd><dt>SRR13516821_1.fastq.bam</dt><dd>1048</dd><dt>SRR13516823_1.fastq.bam</dt><dd>1064</dd></dl>\n"
      ],
      "text/latex": [
       "\\begin{description*}\n",
       "\\item[SRR13516818\\textbackslash{}\\_1.fastq.bam] 2602\n",
       "\\item[SRR13516819\\textbackslash{}\\_1.fastq.bam] 3425\n",
       "\\item[SRR13516821\\textbackslash{}\\_1.fastq.bam] 1048\n",
       "\\item[SRR13516823\\textbackslash{}\\_1.fastq.bam] 1064\n",
       "\\end{description*}\n"
      ],
      "text/markdown": [
       "SRR13516818_1.fastq.bam\n",
       ":   2602SRR13516819_1.fastq.bam\n",
       ":   3425SRR13516821_1.fastq.bam\n",
       ":   1048SRR13516823_1.fastq.bam\n",
       ":   1064\n",
       "\n"
      ],
      "text/plain": [
       "SRR13516818_1.fastq.bam SRR13516819_1.fastq.bam SRR13516821_1.fastq.bam \n",
       "                   2602                    3425                    1048 \n",
       "SRR13516823_1.fastq.bam \n",
       "                   1064 "
      ]
     },
     "metadata": {},
     "output_type": "display_data"
    }
   ],
   "source": [
    "countData['FNIP1',]"
   ]
  },
  {
   "cell_type": "markdown",
   "metadata": {},
   "source": [
    "Rename the column names for a better interpretability (MB1 are library generated from treated cells and CTL are library generated from control, i.e DMSO, cells): "
   ]
  },
  {
   "cell_type": "code",
   "execution_count": 106,
   "metadata": {},
   "outputs": [
    {
     "data": {
      "text/html": [
       "<table>\n",
       "<caption>A matrix: 6 × 4 of type int</caption>\n",
       "<thead>\n",
       "\t<tr><th></th><th scope=col>CTL_1</th><th scope=col>CTL_2</th><th scope=col>MB1_1</th><th scope=col>MB1_2</th></tr>\n",
       "</thead>\n",
       "<tbody>\n",
       "\t<tr><th scope=row>MIR1302-11</th><td>0</td><td>0</td><td>0</td><td>0</td></tr>\n",
       "\t<tr><th scope=row>FAM138A</th><td>0</td><td>0</td><td>0</td><td>0</td></tr>\n",
       "\t<tr><th scope=row>OR4F5</th><td>0</td><td>0</td><td>0</td><td>0</td></tr>\n",
       "\t<tr><th scope=row>RP11-34P13.7</th><td>0</td><td>0</td><td>0</td><td>0</td></tr>\n",
       "\t<tr><th scope=row>RP11-34P13.8</th><td>0</td><td>0</td><td>0</td><td>0</td></tr>\n",
       "\t<tr><th scope=row>AL627309.1</th><td>0</td><td>0</td><td>0</td><td>0</td></tr>\n",
       "</tbody>\n",
       "</table>\n"
      ],
      "text/latex": [
       "A matrix: 6 × 4 of type int\n",
       "\\begin{tabular}{r|llll}\n",
       "  & CTL\\_1 & CTL\\_2 & MB1\\_1 & MB1\\_2\\\\\n",
       "\\hline\n",
       "\tMIR1302-11 & 0 & 0 & 0 & 0\\\\\n",
       "\tFAM138A & 0 & 0 & 0 & 0\\\\\n",
       "\tOR4F5 & 0 & 0 & 0 & 0\\\\\n",
       "\tRP11-34P13.7 & 0 & 0 & 0 & 0\\\\\n",
       "\tRP11-34P13.8 & 0 & 0 & 0 & 0\\\\\n",
       "\tAL627309.1 & 0 & 0 & 0 & 0\\\\\n",
       "\\end{tabular}\n"
      ],
      "text/markdown": [
       "\n",
       "A matrix: 6 × 4 of type int\n",
       "\n",
       "| <!--/--> | CTL_1 | CTL_2 | MB1_1 | MB1_2 |\n",
       "|---|---|---|---|---|\n",
       "| MIR1302-11 | 0 | 0 | 0 | 0 |\n",
       "| FAM138A | 0 | 0 | 0 | 0 |\n",
       "| OR4F5 | 0 | 0 | 0 | 0 |\n",
       "| RP11-34P13.7 | 0 | 0 | 0 | 0 |\n",
       "| RP11-34P13.8 | 0 | 0 | 0 | 0 |\n",
       "| AL627309.1 | 0 | 0 | 0 | 0 |\n",
       "\n"
      ],
      "text/plain": [
       "             CTL_1 CTL_2 MB1_1 MB1_2\n",
       "MIR1302-11   0     0     0     0    \n",
       "FAM138A      0     0     0     0    \n",
       "OR4F5        0     0     0     0    \n",
       "RP11-34P13.7 0     0     0     0    \n",
       "RP11-34P13.8 0     0     0     0    \n",
       "AL627309.1   0     0     0     0    "
      ]
     },
     "metadata": {},
     "output_type": "display_data"
    },
    {
     "data": {
      "image/png": "[encoded data removed]",
      "text/plain": [
       "plot without title"
      ]
     },
     "metadata": {
      "image/png": {
       "height": 180,
       "width": 240
      }
     },
     "output_type": "display_data"
    }
   ],
   "source": [
    "colnames(countData) <- c(\"MB1_1\", \"MB1_2\", \"CTL_1\", \"CTL_2\")\n",
    "#barplot(colSums(countData))\n",
    "countData = countData[, c(3, 4, 1, 2)] #change the order of the columns to match the interpretation of the reference notebook\n",
    "barplot(colSums(countData))#be sure that the two graphs match\n",
    "head(countData)"
   ]
  },
  {
   "cell_type": "markdown",
   "metadata": {},
   "source": [
    "Plot of the total amount of (raw) reads per sample: "
   ]
  },
  {
   "cell_type": "code",
   "execution_count": 107,
   "metadata": {},
   "outputs": [
    {
     "data": {
      "image/png": "[encoded data removed]",
      "text/plain": [
       "plot without title"
      ]
     },
     "metadata": {
      "image/png": {
       "height": 180,
       "width": 240
      }
     },
     "output_type": "display_data"
    }
   ],
   "source": [
    "barplot(colSums(countData))"
   ]
  },
  {
   "cell_type": "markdown",
   "metadata": {},
   "source": [
    "Note that MB1_2 library has more counts than other, so normalization will be needed. \n",
    "Another remark is that it is important that the order of the levels is correct. In this case `Control` comes first, which means that we will be comparing $MB1 \\over Control$, so positive log fold change values are up in the stiumulated samples."
   ]
  },
  {
   "cell_type": "code",
   "execution_count": 108,
   "metadata": {},
   "outputs": [
    {
     "name": "stdout",
     "output_type": "stream",
     "text": [
      "[1] Control Control MB1     MB1    \n",
      "Levels: Control MB1\n"
     ]
    }
   ],
   "source": [
    "#formalize our experiment as a condition (two levels as factors)\n",
    "condition <- factor(c(\"Control\", \"Control\", \"MB1\", \"MB1\"))\n",
    "print(condition)"
   ]
  },
  {
   "cell_type": "markdown",
   "metadata": {},
   "source": [
    "Prepare a dataframe with the names and conditions. This will be fed to `DESeq2`. Ensure that the order is unchanged!"
   ]
  },
  {
   "cell_type": "code",
   "execution_count": 109,
   "metadata": {},
   "outputs": [
    {
     "data": {
      "text/html": [
       "<table>\n",
       "<caption>A data.frame: 4 × 2</caption>\n",
       "<thead>\n",
       "\t<tr><th scope=col>sampleName</th><th scope=col>condition</th></tr>\n",
       "\t<tr><th scope=col>&lt;fct&gt;</th><th scope=col>&lt;fct&gt;</th></tr>\n",
       "</thead>\n",
       "<tbody>\n",
       "\t<tr><td>CTL_1</td><td>Control</td></tr>\n",
       "\t<tr><td>CTL_2</td><td>Control</td></tr>\n",
       "\t<tr><td>MB1_1</td><td>MB1    </td></tr>\n",
       "\t<tr><td>MB1_2</td><td>MB1    </td></tr>\n",
       "</tbody>\n",
       "</table>\n"
      ],
      "text/latex": [
       "A data.frame: 4 × 2\n",
       "\\begin{tabular}{ll}\n",
       " sampleName & condition\\\\\n",
       " <fct> & <fct>\\\\\n",
       "\\hline\n",
       "\t CTL\\_1 & Control\\\\\n",
       "\t CTL\\_2 & Control\\\\\n",
       "\t MB1\\_1 & MB1    \\\\\n",
       "\t MB1\\_2 & MB1    \\\\\n",
       "\\end{tabular}\n"
      ],
      "text/markdown": [
       "\n",
       "A data.frame: 4 × 2\n",
       "\n",
       "| sampleName &lt;fct&gt; | condition &lt;fct&gt; |\n",
       "|---|---|\n",
       "| CTL_1 | Control |\n",
       "| CTL_2 | Control |\n",
       "| MB1_1 | MB1     |\n",
       "| MB1_2 | MB1     |\n",
       "\n"
      ],
      "text/plain": [
       "  sampleName condition\n",
       "1 CTL_1      Control  \n",
       "2 CTL_2      Control  \n",
       "3 MB1_1      MB1      \n",
       "4 MB1_2      MB1      "
      ]
     },
     "metadata": {},
     "output_type": "display_data"
    }
   ],
   "source": [
    "colData <- data.frame(sampleName = colnames(countData),\n",
    "                      condition = condition)\n",
    "colData\n",
    "#formal structure that is needed for DeSEQ"
   ]
  },
  {
   "cell_type": "markdown",
   "metadata": {},
   "source": [
    "Here we create a DESeq `DESeqDataSet` object for subsequent analysis:"
   ]
  },
  {
   "cell_type": "code",
   "execution_count": 110,
   "metadata": {},
   "outputs": [
    {
     "data": {
      "text/plain": [
       "class: DESeqDataSet \n",
       "dim: 41863 4 \n",
       "metadata(1): version\n",
       "assays(1): counts\n",
       "rownames(41863): MIR1302-11 FAM138A ... AC007965.1 RNU6-1314P\n",
       "rowData names(0):\n",
       "colnames(4): CTL_1 CTL_2 MB1_1 MB1_2\n",
       "colData names(2): sampleName condition"
      ]
     },
     "metadata": {},
     "output_type": "display_data"
    }
   ],
   "source": [
    "dds <- DESeqDataSetFromMatrix(countData = countData,\n",
    "                              colData = colData,\n",
    "                              design = ~ condition)\n",
    "#we need to do this to ensure the column names are correct.\n",
    "colnames(dds) <- colnames(countData)\n",
    "dds"
   ]
  },
  {
   "cell_type": "markdown",
   "metadata": {},
   "source": [
    "By comparing the condition factor in the dds object to the column names, you can confirm that the order is still correct: "
   ]
  },
  {
   "cell_type": "code",
   "execution_count": 111,
   "metadata": {},
   "outputs": [
    {
     "data": {
      "text/html": [
       "<style>\n",
       ".list-inline {list-style: none; margin:0; padding: 0}\n",
       ".list-inline>li {display: inline-block}\n",
       ".list-inline>li:not(:last-child)::after {content: \"\\00b7\"; padding: 0 .5ex}\n",
       "</style>\n",
       "<ol class=list-inline><li>Control</li><li>Control</li><li>MB1</li><li>MB1</li></ol>\n",
       "\n",
       "<details>\n",
       "\t<summary style=display:list-item;cursor:pointer>\n",
       "\t\t<strong>Levels</strong>:\n",
       "\t</summary>\n",
       "\t<style>\n",
       "\t.list-inline {list-style: none; margin:0; padding: 0}\n",
       "\t.list-inline>li {display: inline-block}\n",
       "\t.list-inline>li:not(:last-child)::after {content: \"\\00b7\"; padding: 0 .5ex}\n",
       "\t</style>\n",
       "\t<ol class=list-inline><li>'Control'</li><li>'MB1'</li></ol>\n",
       "</details>"
      ],
      "text/latex": [
       "\\begin{enumerate*}\n",
       "\\item Control\n",
       "\\item Control\n",
       "\\item MB1\n",
       "\\item MB1\n",
       "\\end{enumerate*}\n",
       "\n",
       "\\emph{Levels}: \\begin{enumerate*}\n",
       "\\item 'Control'\n",
       "\\item 'MB1'\n",
       "\\end{enumerate*}\n"
      ],
      "text/markdown": [
       "1. Control\n",
       "2. Control\n",
       "3. MB1\n",
       "4. MB1\n",
       "\n",
       "\n",
       "\n",
       "**Levels**: 1. 'Control'\n",
       "2. 'MB1'\n",
       "\n",
       "\n"
      ],
      "text/plain": [
       "[1] Control Control MB1     MB1    \n",
       "Levels: Control MB1"
      ]
     },
     "metadata": {},
     "output_type": "display_data"
    }
   ],
   "source": [
    "dds$condition"
   ]
  },
  {
   "cell_type": "markdown",
   "metadata": {},
   "source": [
    "### Run the differential expression \n",
    "One function within `DESeq2` runs all steps required and that is:"
   ]
  },
  {
   "cell_type": "code",
   "execution_count": 112,
   "metadata": {},
   "outputs": [
    {
     "name": "stderr",
     "output_type": "stream",
     "text": [
      "estimating size factors\n",
      "\n",
      "estimating dispersions\n",
      "\n",
      "gene-wise dispersion estimates\n",
      "\n",
      "mean-dispersion relationship\n",
      "\n",
      "final dispersion estimates\n",
      "\n",
      "fitting model and testing\n",
      "\n"
     ]
    }
   ],
   "source": [
    "dds <- DESeq(dds)\n",
    "#will estimate many things explained in the following red box"
   ]
  },
  {
   "cell_type": "markdown",
   "metadata": {},
   "source": [
    "### Quality Control "
   ]
  },
  {
   "cell_type": "markdown",
   "metadata": {},
   "source": [
    "DESeq2 estimates a factor to correct for the library size:\n",
    "\n",
    "This is very comparable to the sum of all reads per sample of the raw data, however, `DESeq2` is less sensitive to outliers:"
   ]
  },
  {
   "cell_type": "code",
   "execution_count": 113,
   "metadata": {},
   "outputs": [
    {
     "data": {
      "image/png": "[encoded data removed]",
      "text/plain": [
       "plot without title"
      ]
     },
     "metadata": {
      "image/png": {
       "height": 180,
       "width": 240
      }
     },
     "output_type": "display_data"
    }
   ],
   "source": [
    "options(repr.plot.width=4, repr.plot.height=3)\n",
    "barplot(sizeFactors(dds))\n",
    "#the size factor is logically higher for MB1_2 as there are more reads in MB1_2 than in the other conditions"
   ]
  },
  {
   "cell_type": "markdown",
   "metadata": {},
   "source": [
    "A scatter plot of sample vs sample will show us how the samples compare; are the replicates more similar than beween stimulated and non-stimulated?"
   ]
  },
  {
   "cell_type": "code",
   "execution_count": 152,
   "metadata": {},
   "outputs": [
    {
     "data": {
      "image/png": "[encoded data removed]",
      "text/plain": [
       "plot without title"
      ]
     },
     "metadata": {
      "image/png": {
       "height": 300,
       "width": 300
      }
     },
     "output_type": "display_data"
    }
   ],
   "source": [
    "#comparing the different sample to each other\n",
    "options(repr.plot.width=5, repr.plot.height=5)\n",
    "plot(data.frame(log10(counts(dds))), cex=0.1, col=alpha(\"black\", 0.4))"
   ]
  },
  {
   "cell_type": "markdown",
   "metadata": {},
   "source": [
    "There exists a larger spread of the data between CTL_1 and MB1_1 than between CTL_1 and CTL_2, which is a good news since it indicated that something happened during the experiment. \n",
    "Indeed, the experiment probably worked as the two conditions do not nicely correlate while it does between similar condition. "
   ]
  },
  {
   "cell_type": "markdown",
   "metadata": {},
   "source": [
    "### MA plot\n",
    "\n",
    "An MA plot show the mean expression vs the log fold change and is a very common method to visualize the results of a differential expression plot. Significantly differentially expressed genes are colored red:"
   ]
  },
  {
   "cell_type": "code",
   "execution_count": 116,
   "metadata": {},
   "outputs": [
    {
     "data": {
      "image/png": "[encoded data removed]",
      "text/plain": [
       "Plot with title “”"
      ]
     },
     "metadata": {
      "image/png": {
       "height": 240,
       "width": 300
      }
     },
     "output_type": "display_data"
    }
   ],
   "source": [
    "options(repr.plot.width=5, repr.plot.height=4)\n",
    "plotMA(dds,ylim=c(-3,3))\n",
    "#red dots = significantly differentially expressed gene\n",
    "\n",
    "#as you only have two replicates, you cannot calculate variance, etc (then use of Bayesian inference)"
   ]
  },
  {
   "cell_type": "markdown",
   "metadata": {},
   "source": [
    "### Export the results"
   ]
  },
  {
   "cell_type": "code",
   "execution_count": 142,
   "metadata": {},
   "outputs": [
    {
     "data": {
      "text/plain": [
       "log2 fold change (MLE): condition MB1 vs Control \n",
       "Wald test p-value: condition MB1 vs Control \n",
       "DataFrame with 6 rows and 6 columns\n",
       "                 baseMean    log2FoldChange              lfcSE\n",
       "                <numeric>         <numeric>          <numeric>\n",
       "TRIB3    36600.4315336803  2.48543044630668 0.0779717448011289\n",
       "KLHL24   4847.29869700644  3.36267305287895  0.108147118045263\n",
       "ERN1     4078.53023433434  3.19018707375091  0.111268272060618\n",
       "PRDX1    12871.2138298292 -2.29527402989532 0.0873532569253344\n",
       "LDHA     29688.6605252198 -2.04844635849026 0.0803278966631278\n",
       "HSP90AA1 77235.8493647543 -1.82642127714815 0.0769458400434572\n",
       "                      stat                pvalue                  padj\n",
       "                 <numeric>             <numeric>             <numeric>\n",
       "TRIB3     31.8760398737505 5.73672780705973e-223 8.85291835185458e-219\n",
       "KLHL24    31.0935058988031 2.94810669591521e-212 2.27475912656818e-208\n",
       "ERN1      28.6711298258763 8.74222058199542e-181 4.49699826737844e-177\n",
       "PRDX1     -26.275769338025 3.62924718207223e-152 1.40016356284347e-148\n",
       "LDHA     -25.5010580829828 1.91869151240064e-143 5.92184948387334e-140\n",
       "HSP90AA1 -23.7364524984928 1.51648105474126e-124 3.90038927279452e-121"
      ]
     },
     "metadata": {},
     "output_type": "display_data"
    }
   ],
   "source": [
    "res <- results(dds)\n",
    "res <- res[order(res$padj), ] #ordered by adj p value\n",
    "head(res)\n",
    "#one of these top 5 genes we were used as a reference/positive control gene is comprised in the list! Good news! \n",
    "\n",
    "#p value needs to be adjusted for multiple testing (10e-250 = so low, really significant, it seems to have worked)"
   ]
  },
  {
   "cell_type": "markdown",
   "metadata": {},
   "source": [
    "How many genes are differentially expressed?"
   ]
  },
  {
   "cell_type": "code",
   "execution_count": 158,
   "metadata": {},
   "outputs": [
    {
     "data": {
      "text/html": [
       "5415"
      ],
      "text/latex": [
       "5415"
      ],
      "text/markdown": [
       "5415"
      ],
      "text/plain": [
       "[1] 5415"
      ]
     },
     "metadata": {},
     "output_type": "display_data"
    }
   ],
   "source": [
    "res.sign <- res[(!is.na(res$padj)) & (res$padj < 0.05),]\n",
    "nrow(res.sign)"
   ]
  },
  {
   "cell_type": "code",
   "execution_count": 119,
   "metadata": {},
   "outputs": [
    {
     "data": {
      "image/png": "[encoded data removed]",
      "text/plain": [
       "Plot with title “frequencies of adj. p-values\n",
       "(all genes)”"
      ]
     },
     "metadata": {
      "image/png": {
       "height": 240,
       "width": 300
      }
     },
     "output_type": "display_data"
    }
   ],
   "source": [
    "hist(res$padj, \n",
    "     col=\"grey\", border=\"white\", xlab=\"\", ylab=\"\", main=\"frequencies of adj. p-values\\n(all genes)\")\n",
    "#plot of p values = we see an enrichment around low p values (normally you would see uniform distribution)"
   ]
  },
  {
   "cell_type": "code",
   "execution_count": 121,
   "metadata": {},
   "outputs": [
    {
     "data": {
      "image/png": "[encoded data removed]",
      "text/plain": [
       "Plot with title “SESN3”"
      ]
     },
     "metadata": {
      "image/png": {
       "height": 240,
       "width": 300
      }
     },
     "output_type": "display_data"
    },
    {
     "data": {
      "image/png": "[encoded data removed]",
      "text/plain": [
       "Plot with title “RRAGD”"
      ]
     },
     "metadata": {
      "image/png": {
       "height": 240,
       "width": 300
      }
     },
     "output_type": "display_data"
    }
   ],
   "source": [
    "par(mfrow=c(2,2))\n",
    "for (genes in c(\"MTOR\", \"RNF125\", \"SESN2\", \"SESN3\", \"FNIP1\", \"RRAGD\"))\n",
    "    {\n",
    "    plotCounts(dds, gene= genes, normalized = TRUE)  \n",
    "    }"
   ]
  },
  {
   "cell_type": "markdown",
   "metadata": {},
   "source": [
    "Save to disk:"
   ]
  },
  {
   "cell_type": "code",
   "execution_count": 122,
   "metadata": {},
   "outputs": [],
   "source": [
    "write.table(res, \"deseq.results.tsv\", sep=\"\\t\", col.names=NA, quote=FALSE)"
   ]
  },
  {
   "cell_type": "markdown",
   "metadata": {},
   "source": [
    "It is alwasy important to manually check a number of diff. expressing genes. As expected, all the expression levels of the negative regulators of mTORc1 goes up in the MB1-treated cells: "
   ]
  },
  {
   "cell_type": "code",
   "execution_count": 130,
   "metadata": {},
   "outputs": [
    {
     "data": {
      "text/plain": [
       "log2 fold change (MLE): condition MB1 vs Control \n",
       "Wald test p-value: condition MB1 vs Control \n",
       "DataFrame with 1 row and 6 columns\n",
       "               baseMean   log2FoldChange             lfcSE             stat\n",
       "              <numeric>        <numeric>         <numeric>        <numeric>\n",
       "RNF125 204.812488326132 0.55358308511699 0.322700409095979 1.71547066416126\n",
       "                   pvalue              padj\n",
       "                <numeric>         <numeric>\n",
       "RNF125 0.0862589693995417 0.185548625806656"
      ]
     },
     "metadata": {},
     "output_type": "display_data"
    },
    {
     "data": {
      "image/png": "[encoded data removed]",
      "text/plain": [
       "plot without title"
      ]
     },
     "metadata": {
      "image/png": {
       "height": 240,
       "width": 300
      }
     },
     "output_type": "display_data"
    }
   ],
   "source": [
    "res['RNF125', ]\n",
    "barplot(counts(dds)[\"RNF125\",]) "
   ]
  },
  {
   "cell_type": "code",
   "execution_count": 131,
   "metadata": {},
   "outputs": [
    {
     "data": {
      "text/plain": [
       "log2 fold change (MLE): condition MB1 vs Control \n",
       "Wald test p-value: condition MB1 vs Control \n",
       "DataFrame with 1 row and 6 columns\n",
       "              baseMean   log2FoldChange            lfcSE             stat\n",
       "             <numeric>        <numeric>        <numeric>        <numeric>\n",
       "SESN2 3300.76375790605 1.17287236809096 0.12848621513228 9.12839067508883\n",
       "                    pvalue                 padj\n",
       "                 <numeric>            <numeric>\n",
       "SESN2 6.95250818634885e-20 1.88892792837562e-18"
      ]
     },
     "metadata": {},
     "output_type": "display_data"
    },
    {
     "data": {
      "image/png": "[encoded data removed]",
      "text/plain": [
       "plot without title"
      ]
     },
     "metadata": {
      "image/png": {
       "height": 240,
       "width": 300
      }
     },
     "output_type": "display_data"
    }
   ],
   "source": [
    "res['SESN2', ]\n",
    "barplot(counts(dds)[\"SESN2\",]) "
   ]
  },
  {
   "cell_type": "code",
   "execution_count": 132,
   "metadata": {},
   "outputs": [
    {
     "data": {
      "text/plain": [
       "log2 fold change (MLE): condition MB1 vs Control \n",
       "Wald test p-value: condition MB1 vs Control \n",
       "DataFrame with 1 row and 6 columns\n",
       "              baseMean   log2FoldChange            lfcSE             stat\n",
       "             <numeric>        <numeric>        <numeric>        <numeric>\n",
       "SESN3 17.0386956857199 4.95373737025232 1.47874658384575 3.34995693269446\n",
       "                    pvalue                padj\n",
       "                 <numeric>           <numeric>\n",
       "SESN3 0.000808241260002863 0.00335741026227838"
      ]
     },
     "metadata": {},
     "output_type": "display_data"
    },
    {
     "data": {
      "image/png": "[encoded data removed]",
      "text/plain": [
       "plot without title"
      ]
     },
     "metadata": {
      "image/png": {
       "height": 240,
       "width": 300
      }
     },
     "output_type": "display_data"
    }
   ],
   "source": [
    "res['SESN3', ]\n",
    "barplot(counts(dds)[\"SESN3\",]) "
   ]
  },
  {
   "cell_type": "code",
   "execution_count": 127,
   "metadata": {},
   "outputs": [
    {
     "data": {
      "text/plain": [
       "log2 fold change (MLE): condition MB1 vs Control \n",
       "Wald test p-value: condition MB1 vs Control \n",
       "DataFrame with 1 row and 6 columns\n",
       "              baseMean   log2FoldChange            lfcSE             stat\n",
       "             <numeric>        <numeric>        <numeric>        <numeric>\n",
       "FNIP1 1930.33007204913 1.24242266804123 0.13127196415632 9.46449362608557\n",
       "                    pvalue                 padj\n",
       "                 <numeric>            <numeric>\n",
       "FNIP1 2.94986835668341e-21 8.83929485055113e-20"
      ]
     },
     "metadata": {},
     "output_type": "display_data"
    },
    {
     "data": {
      "image/png": "[encoded data removed]",
      "text/plain": [
       "plot without title"
      ]
     },
     "metadata": {
      "image/png": {
       "height": 240,
       "width": 300
      }
     },
     "output_type": "display_data"
    }
   ],
   "source": [
    "res['FNIP1', ]\n",
    "barplot(counts(dds)[\"FNIP1\",]) "
   ]
  },
  {
   "cell_type": "code",
   "execution_count": 128,
   "metadata": {},
   "outputs": [
    {
     "data": {
      "text/plain": [
       "log2 fold change (MLE): condition MB1 vs Control \n",
       "Wald test p-value: condition MB1 vs Control \n",
       "DataFrame with 1 row and 6 columns\n",
       "             baseMean    log2FoldChange             lfcSE             stat\n",
       "            <numeric>         <numeric>         <numeric>        <numeric>\n",
       "RRAGD 1456.7014491063 0.983690212197364 0.149981743183038 6.55873302523804\n",
       "                    pvalue                 padj\n",
       "                 <numeric>            <numeric>\n",
       "RRAGD 5.42668562486674e-11 6.53234107355254e-10"
      ]
     },
     "metadata": {},
     "output_type": "display_data"
    },
    {
     "data": {
      "image/png": "[encoded data removed]",
      "text/plain": [
       "plot without title"
      ]
     },
     "metadata": {
      "image/png": {
       "height": 240,
       "width": 300
      }
     },
     "output_type": "display_data"
    }
   ],
   "source": [
    "res['RRAGD', ]\n",
    "barplot(counts(dds)[\"RRAGD\",]) "
   ]
  },
  {
   "cell_type": "code",
   "execution_count": 123,
   "metadata": {},
   "outputs": [
    {
     "data": {
      "text/plain": [
       "log2 fold change (MLE): condition MB1 vs Control \n",
       "Wald test p-value: condition MB1 vs Control \n",
       "DataFrame with 1 row and 6 columns\n",
       "             baseMean     log2FoldChange              lfcSE              stat\n",
       "            <numeric>          <numeric>          <numeric>         <numeric>\n",
       "MTOR 5333.65702836345 -0.228433677139819 0.0976506097150718 -2.33929596350039\n",
       "                 pvalue              padj\n",
       "              <numeric>         <numeric>\n",
       "MTOR 0.0193201214706711 0.054267949496796"
      ]
     },
     "metadata": {},
     "output_type": "display_data"
    },
    {
     "data": {
      "image/png": "[encoded data removed]",
      "text/plain": [
       "plot without title"
      ]
     },
     "metadata": {
      "image/png": {
       "height": 240,
       "width": 300
      }
     },
     "output_type": "display_data"
    }
   ],
   "source": [
    "res['MTOR', ]\n",
    "barplot(counts(dds)[\"MTOR\",]) "
   ]
  }
 ],
 "metadata": {
  "kernelspec": {
   "display_name": "R",
   "language": "R",
   "name": "ir"
  },
  "language_info": {
   "codemirror_mode": "r",
   "file_extension": ".r",
   "mimetype": "text/x-r-source",
   "name": "R",
   "pygments_lexer": "r",
   "version": "3.6.3"
  }
 },
 "nbformat": 4,
 "nbformat_minor": 2
}
