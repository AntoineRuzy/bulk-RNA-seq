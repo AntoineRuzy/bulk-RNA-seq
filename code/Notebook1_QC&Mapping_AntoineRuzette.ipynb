{
 "cells": [
  {
   "cell_type": "markdown",
   "metadata": {},
   "source": [
    "# Task 1: Bulk RNA-seq data analysis\n",
    "## Notebook 1: Quality control (QC) and mapping\n",
    "\n",
    "\n",
    "Comparative & Regulatory Genomics - [I0U29a] | Task 1 - Bulk RNA-seq data analysis | Antoine Ruzette <b> r0829308 </b> | 19.12.2021\n",
    "\n",
    "Based on the RNA-seq map count jupyter notebook from Prof. Stein Aerts. \n"
   ]
  },
  {
   "cell_type": "markdown",
   "metadata": {},
   "source": [
    "### Data loading"
   ]
  },
  {
   "cell_type": "markdown",
   "metadata": {},
   "source": [
    "First, we create a directory named `Assignment` to work in: "
   ]
  },
  {
   "cell_type": "code",
   "execution_count": 8,
   "metadata": {},
   "outputs": [],
   "source": [
    "mkdir -p /mnt/storage/$USER/jupyternotebooks/Assignment\n",
    "cd /mnt/storage/$USER/jupyternotebooks/Assignment"
   ]
  },
  {
   "cell_type": "markdown",
   "metadata": {},
   "source": [
    "We load the data using the fastq -dump function: "
   ]
  },
  {
   "cell_type": "code",
   "execution_count": 9,
   "metadata": {},
   "outputs": [],
   "source": [
    "vdb-config -s /repository/user/cache-disabled=true"
   ]
  },
  {
   "cell_type": "markdown",
   "metadata": {},
   "source": [
    "Six data set were available. For simplicity, four of them were randomly sampled out of the six, namely control 1 (...21), control 3 (...23), treatment 1 (...18) and treatment 2 (...19)."
   ]
  },
  {
   "cell_type": "markdown",
   "metadata": {},
   "source": [
    "#### SRR13516821 - Control 1"
   ]
  },
  {
   "cell_type": "code",
   "execution_count": 25,
   "metadata": {},
   "outputs": [
    {
     "name": "stdout",
     "output_type": "stream",
     "text": [
      "Read 36112182 spots for SRR13516821\n",
      "Written 36112182 spots for SRR13516821\n"
     ]
    }
   ],
   "source": [
    "fastq-dump --split-files SRR13516821"
   ]
  },
  {
   "cell_type": "markdown",
   "metadata": {},
   "source": [
    "#### SRR13516823 - Control 3"
   ]
  },
  {
   "cell_type": "code",
   "execution_count": 37,
   "metadata": {},
   "outputs": [
    {
     "name": "stdout",
     "output_type": "stream",
     "text": [
      "Read 38608574 spots for SRR13516823\n",
      "Written 38608574 spots for SRR13516823\n"
     ]
    }
   ],
   "source": [
    "fastq-dump --split-files SRR13516823"
   ]
  },
  {
   "cell_type": "markdown",
   "metadata": {},
   "source": [
    "#### SRR13516818 - Treatment1"
   ]
  },
  {
   "cell_type": "code",
   "execution_count": 3,
   "metadata": {},
   "outputs": [
    {
     "name": "stdout",
     "output_type": "stream",
     "text": [
      "Read 33591277 spots for SRR13516818\n",
      "Written 33591277 spots for SRR13516818\n"
     ]
    }
   ],
   "source": [
    "fastq-dump --split-files SRR13516818"
   ]
  },
  {
   "cell_type": "markdown",
   "metadata": {},
   "source": [
    "#### SRR13516819\t- Treatment2"
   ]
  },
  {
   "cell_type": "code",
   "execution_count": 7,
   "metadata": {},
   "outputs": [
    {
     "name": "stdout",
     "output_type": "stream",
     "text": [
      "Read 47956846 spots for SRR13516819\n",
      "Written 47956846 spots for SRR13516819\n"
     ]
    }
   ],
   "source": [
    "fastq-dump --split-files SRR13516819"
   ]
  },
  {
   "cell_type": "code",
   "execution_count": 28,
   "metadata": {},
   "outputs": [
    {
     "name": "stdout",
     "output_type": "stream",
     "text": [
      "-rw-r--r-- 1 r0829308 domain users 6600197076 Nov 29 21:57 SRR13516821_1.fastq\n",
      "-rw-r--r-- 1 r0829308 domain users 8779615252 Nov 29 16:19 SRR13516819_1.fastq\n",
      "-rw-r--r-- 1 r0829308 domain users 6136350556 Nov 29 14:41 SRR13516818_1.fastq\n",
      "-rw-r--r-- 1 r0829308 domain users 7059533204 Nov 27 13:10 SRR13516823_1.fastq\n"
     ]
    }
   ],
   "source": [
    "ls -lt *.fastq"
   ]
  },
  {
   "cell_type": "markdown",
   "metadata": {},
   "source": [
    "### Quality control using `FastQC`"
   ]
  },
  {
   "cell_type": "code",
   "execution_count": 26,
   "metadata": {
    "scrolled": true
   },
   "outputs": [
    {
     "name": "stdout",
     "output_type": "stream",
     "text": [
      "Started analysis of SRR13516818_1.fastq\n",
      "Approx 5% complete for SRR13516818_1.fastq\n",
      "Approx 10% complete for SRR13516818_1.fastq\n",
      "Approx 15% complete for SRR13516818_1.fastq\n",
      "Approx 20% complete for SRR13516818_1.fastq\n",
      "Approx 25% complete for SRR13516818_1.fastq\n",
      "Approx 30% complete for SRR13516818_1.fastq\n",
      "Approx 35% complete for SRR13516818_1.fastq\n",
      "Approx 40% complete for SRR13516818_1.fastq\n",
      "Approx 45% complete for SRR13516818_1.fastq\n",
      "Approx 50% complete for SRR13516818_1.fastq\n",
      "Approx 55% complete for SRR13516818_1.fastq\n",
      "Approx 60% complete for SRR13516818_1.fastq\n",
      "Approx 65% complete for SRR13516818_1.fastq\n",
      "Approx 70% complete for SRR13516818_1.fastq\n",
      "Approx 75% complete for SRR13516818_1.fastq\n",
      "Approx 80% complete for SRR13516818_1.fastq\n",
      "Approx 85% complete for SRR13516818_1.fastq\n",
      "Approx 90% complete for SRR13516818_1.fastq\n",
      "Approx 95% complete for SRR13516818_1.fastq\n",
      "Analysis complete for SRR13516818_1.fastq\n",
      "Started analysis of SRR13516819_1.fastq\n",
      "Approx 5% complete for SRR13516819_1.fastq\n",
      "Approx 10% complete for SRR13516819_1.fastq\n",
      "Approx 15% complete for SRR13516819_1.fastq\n",
      "Approx 20% complete for SRR13516819_1.fastq\n",
      "Approx 25% complete for SRR13516819_1.fastq\n",
      "Approx 30% complete for SRR13516819_1.fastq\n",
      "Approx 35% complete for SRR13516819_1.fastq\n",
      "Approx 40% complete for SRR13516819_1.fastq\n",
      "Approx 45% complete for SRR13516819_1.fastq\n",
      "Approx 50% complete for SRR13516819_1.fastq\n",
      "Approx 55% complete for SRR13516819_1.fastq\n",
      "Approx 60% complete for SRR13516819_1.fastq\n",
      "Approx 65% complete for SRR13516819_1.fastq\n",
      "Approx 70% complete for SRR13516819_1.fastq\n",
      "Approx 75% complete for SRR13516819_1.fastq\n",
      "Approx 80% complete for SRR13516819_1.fastq\n",
      "Approx 85% complete for SRR13516819_1.fastq\n",
      "Approx 90% complete for SRR13516819_1.fastq\n",
      "Approx 95% complete for SRR13516819_1.fastq\n",
      "Analysis complete for SRR13516819_1.fastq\n",
      "Started analysis of SRR13516821_1.fastq\n",
      "Approx 5% complete for SRR13516821_1.fastq\n",
      "Approx 10% complete for SRR13516821_1.fastq\n",
      "Approx 15% complete for SRR13516821_1.fastq\n",
      "Approx 20% complete for SRR13516821_1.fastq\n",
      "Approx 25% complete for SRR13516821_1.fastq\n",
      "Approx 30% complete for SRR13516821_1.fastq\n",
      "Approx 35% complete for SRR13516821_1.fastq\n",
      "Approx 40% complete for SRR13516821_1.fastq\n",
      "Approx 45% complete for SRR13516821_1.fastq\n",
      "Approx 50% complete for SRR13516821_1.fastq\n",
      "Approx 55% complete for SRR13516821_1.fastq\n",
      "Approx 60% complete for SRR13516821_1.fastq\n",
      "Approx 65% complete for SRR13516821_1.fastq\n",
      "Approx 70% complete for SRR13516821_1.fastq\n",
      "Approx 75% complete for SRR13516821_1.fastq\n",
      "Approx 80% complete for SRR13516821_1.fastq\n",
      "Approx 85% complete for SRR13516821_1.fastq\n",
      "Approx 90% complete for SRR13516821_1.fastq\n",
      "Approx 95% complete for SRR13516821_1.fastq\n",
      "Analysis complete for SRR13516821_1.fastq\n",
      "Started analysis of SRR13516823_1.fastq\n",
      "Approx 5% complete for SRR13516823_1.fastq\n",
      "Approx 10% complete for SRR13516823_1.fastq\n",
      "Approx 15% complete for SRR13516823_1.fastq\n",
      "Approx 20% complete for SRR13516823_1.fastq\n",
      "Approx 25% complete for SRR13516823_1.fastq\n",
      "Approx 30% complete for SRR13516823_1.fastq\n",
      "Approx 35% complete for SRR13516823_1.fastq\n",
      "Approx 40% complete for SRR13516823_1.fastq\n",
      "Approx 45% complete for SRR13516823_1.fastq\n",
      "Approx 50% complete for SRR13516823_1.fastq\n",
      "Approx 55% complete for SRR13516823_1.fastq\n",
      "Approx 60% complete for SRR13516823_1.fastq\n",
      "Approx 65% complete for SRR13516823_1.fastq\n",
      "Approx 70% complete for SRR13516823_1.fastq\n",
      "Approx 75% complete for SRR13516823_1.fastq\n",
      "Approx 80% complete for SRR13516823_1.fastq\n",
      "Approx 85% complete for SRR13516823_1.fastq\n",
      "Approx 90% complete for SRR13516823_1.fastq\n",
      "Approx 95% complete for SRR13516823_1.fastq\n",
      "Analysis complete for SRR13516823_1.fastq\n"
     ]
    }
   ],
   "source": [
    "#!/bin/bash\n",
    "for filename in /mnt/storage/$USER/jupyternotebooks/Assignment/*.fastq; \n",
    "do\n",
    "    /usr/bin/fastqc -o . $filename\n",
    "done"
   ]
  },
  {
   "cell_type": "code",
   "execution_count": 27,
   "metadata": {},
   "outputs": [
    {
     "name": "stdout",
     "output_type": "stream",
     "text": [
      "-rw-r--r-- 1 r0829308 domain users 507415 Nov 29 22:22 SRR13516823_1_fastqc.zip\n",
      "-rw-r--r-- 1 r0829308 domain users 506755 Nov 29 22:21 SRR13516821_1_fastqc.zip\n",
      "-rw-r--r-- 1 r0829308 domain users 495198 Nov 29 22:19 SRR13516819_1_fastqc.zip\n",
      "-rw-r--r-- 1 r0829308 domain users 496964 Nov 29 22:17 SRR13516818_1_fastqc.zip\n"
     ]
    }
   ],
   "source": [
    "#open the zip file to inspect the QC report + insert screenshots in master notebook\n",
    "ls -lt *.zip"
   ]
  },
  {
   "cell_type": "markdown",
   "metadata": {},
   "source": [
    "### Mapping to the genome using STAR"
   ]
  },
  {
   "cell_type": "markdown",
   "metadata": {},
   "source": [
    "#### Running `STAR` on each fastq files"
   ]
  },
  {
   "cell_type": "code",
   "execution_count": 29,
   "metadata": {},
   "outputs": [
    {
     "name": "stdout",
     "output_type": "stream",
     "text": [
      "Nov 29 22:28:12 ..... started STAR run\n",
      "Nov 29 22:28:12 ..... loading genome\n",
      "Nov 29 22:29:16 ..... started mapping\n",
      "Nov 29 22:34:52 ..... finished successfully\n",
      "Nov 29 22:34:52 ..... started STAR run\n",
      "Nov 29 22:34:52 ..... loading genome\n",
      "Nov 29 22:35:12 ..... started mapping\n",
      "Nov 29 22:43:09 ..... finished successfully\n",
      "Nov 29 22:43:09 ..... started STAR run\n",
      "Nov 29 22:43:09 ..... loading genome\n",
      "Nov 29 22:43:28 ..... started mapping\n",
      "Nov 29 22:50:04 ..... finished successfully\n",
      "Nov 29 22:50:04 ..... started STAR run\n",
      "Nov 29 22:50:04 ..... loading genome\n",
      "Nov 29 22:50:24 ..... started mapping\n",
      "Nov 29 22:56:42 ..... finished successfully\n"
     ]
    }
   ],
   "source": [
    "#!/bin/bash\n",
    "for filename in /mnt/storage/$USER/jupyternotebooks/Assignment/*.fastq; \n",
    "do\n",
    "    STAR --genomeDir /mnt/nfs/mfiers/STAR/hg19_star_db \\\n",
    "         --genomeLoad NoSharedMemory \\\n",
    "         --runThreadN 2 \\\n",
    "         --readFilesIn $filename \\\n",
    "         --outFileNamePrefix $filename.\n",
    "done"
   ]
  },
  {
   "cell_type": "code",
   "execution_count": 30,
   "metadata": {},
   "outputs": [
    {
     "name": "stdout",
     "output_type": "stream",
     "text": [
      "-rw-r--r-- 1 r0829308 domain users  7162954163 Nov 29 22:34 SRR13516818_1.fastq.Aligned.out.sam\n",
      "-rw-r--r-- 1 r0829308 domain users 10299467879 Nov 29 22:43 SRR13516819_1.fastq.Aligned.out.sam\n",
      "-rw-r--r-- 1 r0829308 domain users  7889097735 Nov 29 22:50 SRR13516821_1.fastq.Aligned.out.sam\n",
      "-rw-r--r-- 1 r0829308 domain users  8446737478 Nov 29 22:56 SRR13516823_1.fastq.Aligned.out.sam\n"
     ]
    }
   ],
   "source": [
    "ls -l *.sam\n",
    "#note the presence of sam files for each treatment"
   ]
  },
  {
   "cell_type": "markdown",
   "metadata": {},
   "source": [
    "### SAM file structure"
   ]
  },
  {
   "cell_type": "code",
   "execution_count": 32,
   "metadata": {},
   "outputs": [
    {
     "name": "stdout",
     "output_type": "stream",
     "text": [
      "@HD\tVN:1.4\n",
      "@SQ\tSN:chrM\tLN:16571\n",
      "@SQ\tSN:chr1\tLN:249250621\n",
      "@SQ\tSN:chr2\tLN:243199373\n",
      "@SQ\tSN:chr3\tLN:198022430\n",
      "@SQ\tSN:chr4\tLN:191154276\n",
      "@SQ\tSN:chr5\tLN:180915260\n",
      "@SQ\tSN:chr6\tLN:171115067\n",
      "@SQ\tSN:chr7\tLN:159138663\n",
      "@SQ\tSN:chr8\tLN:146364022\n",
      "@SQ\tSN:chr9\tLN:141213431\n",
      "@SQ\tSN:chr10\tLN:135534747\n",
      "@SQ\tSN:chr11\tLN:135006516\n",
      "@SQ\tSN:chr12\tLN:133851895\n",
      "@SQ\tSN:chr13\tLN:115169878\n",
      "@SQ\tSN:chr14\tLN:107349540\n",
      "@SQ\tSN:chr15\tLN:102531392\n",
      "@SQ\tSN:chr16\tLN:90354753\n",
      "@SQ\tSN:chr17\tLN:81195210\n",
      "@SQ\tSN:chr18\tLN:78077248\n",
      "@SQ\tSN:chr19\tLN:59128983\n",
      "@SQ\tSN:chr20\tLN:63025520\n",
      "@SQ\tSN:chr21\tLN:48129895\n",
      "@SQ\tSN:chr22\tLN:51304566\n",
      "@SQ\tSN:chrX\tLN:155270560\n",
      "@SQ\tSN:chrY\tLN:59373566\n",
      "@PG\tID:STAR\tPN:STAR\tVN:STAR_2.5.4b\tCL:STAR   --runThreadN 2   --genomeDir /mnt/nfs/mfiers/STAR/hg19_star_db   --genomeLoad NoSharedMemory   --readFilesIn /mnt/storage/r0829308/jupyternotebooks/Assignment/SRR13516818_1.fastq      --outFileNamePrefix /mnt/storage/r0829308/jupyternotebooks/Assignment/SRR13516818_1.fastq.\n",
      "@CO\tuser command line: STAR --genomeDir /mnt/nfs/mfiers/STAR/hg19_star_db --genomeLoad NoSharedMemory --runThreadN 2 --readFilesIn /mnt/storage/r0829308/jupyternotebooks/Assignment/SRR13516818_1.fastq --outFileNamePrefix /mnt/storage/r0829308/jupyternotebooks/Assignment/SRR13516818_1.fastq.\n"
     ]
    }
   ],
   "source": [
    "head -40 SRR13516818_1.fastq.Aligned.out.sam | grep '^@'"
   ]
  },
  {
   "cell_type": "code",
   "execution_count": 33,
   "metadata": {},
   "outputs": [
    {
     "name": "stdout",
     "output_type": "stream",
     "text": [
      "SRR13516818.1\t0\tchr12\t53809466\t255\t50M\t*\t0\t0\tGNTGCAAGTAGTGAGGATTTTGTTGATACCTCTGCTGGGATGTGTGCTTT\tF#FFFFFFFFFFFFFFFFFFFFFFFFFF:FFFFFFFFFFFFFFFFF,FFF\tNH:i:1\tHI:i:1\tAS:i:48\tnM:i:0\n",
      "SRR13516818.2\t16\tchr1\t65309809\t255\t50M\t*\t0\t0\tTTCCAAAGCTCCACTTGTCAGCAGCCACACTCAGGTTCTTGGAGTCCTNA\t:FFFFFFFFFFFFFFF:FFFFFFFFFFFFFFFFFFFFFFFFFFFFFFF#F\tNH:i:1\tHI:i:1\tAS:i:48\tnM:i:0\n",
      "SRR13516818.3\t16\tchr14\t21820068\t255\t50M\t*\t0\t0\tTAGAAGCGGTACATGAGGCACAACCTGATATATCTTCCTTAGATATATNA\tFFFFFF:FFFFFFFFFFFFFFFFFFFFFFFFFFFFFFFFFFFFFFFFF#F\tNH:i:1\tHI:i:1\tAS:i:48\tnM:i:0\n",
      "SRR13516818.4\t0\tchr9\t37126904\t255\t36M175245N14M\t*\t0\t0\tTNAACCTTGTGGGATGTGAAAACTCTGTTACTGAAGGGGAAGATGGTATA\tF#FFFFFFFFFFFFFFFFFFFFFFFFFFFFFFFFFFFFFFFFFFFFFFFF\tNH:i:1\tHI:i:1\tAS:i:45\tnM:i:1\n",
      "SRR13516818.5\t16\tchr12\t125397694\t3\t50M\t*\t0\t0\tCAGGGTACGACCATCTTCCAGCTGTTTTCCGGCAAAGATCAACCTCTGNT\tFFFFFFF,FFFFFFFFFFFFFFF:FFFFFFFFFFFFF:::FFFFFFFF#:\tNH:i:2\tHI:i:1\tAS:i:48\tnM:i:0\n",
      "SRR13516818.5\t272\tchr12\t125397238\t3\t50M\t*\t0\t0\tCAGGGTACGACCATCTTCCAGCTGTTTTCCGGCAAAGATCAACCTCTGNT\tFFFFFFF,FFFFFFFFFFFFFFF:FFFFFFFFFFFFF:::FFFFFFFF#:\tNH:i:2\tHI:i:2\tAS:i:48\tnM:i:0\n",
      "SRR13516818.6\t0\tchr10\t98745216\t255\t50M\t*\t0\t0\tTNTGATTAAAGGCTTGTATTTTATACTTGATGCACAAGCACTTGTACTGT\tF#FFFFFFFFFFFFFF:FFFFFFF:FFFFFFFFF:FFFFFFFFFFFFFFF\tNH:i:1\tHI:i:1\tAS:i:48\tnM:i:0\n",
      "SRR13516818.7\t16\tchr6\t18225084\t255\t50M\t*\t0\t0\tTGATTTTTGGTCTGTCCTTATATAATATAAAACGTACCTACAGACACTNT\tFFFFFFFFFFF:FFF:FFFFF,FF:FFFFFFFFFFFFFFFFFFFFFFF#F\tNH:i:1\tHI:i:1\tAS:i:48\tnM:i:0\n",
      "SRR13516818.8\t0\tchr2\t74685887\t255\t50M\t*\t0\t0\tTNACGGAGCCAAAGGTACTGTGAAGTTCCTAAACATGTCTCTTCCACTCT\tF#FFFFFFFFFFFFFFFFFFFFFFFFFFFFFFFFFFFFFFFFF:FF:FFF\tNH:i:1\tHI:i:1\tAS:i:48\tnM:i:0\n",
      "SRR13516818.9\t0\tchr12\t72307702\t255\t5M3771N45M\t*\t0\t0\tANATGCATCAGAATTTTGAAGAACAAATGCAAGGCATGAAGACCCAGCTA\tF#FFFFFFF:FFFFFFFFFFFFFFFFFFFFFFFFFFFFFFFFFF:FFFF:\tNH:i:1\tHI:i:1\tAS:i:48\tnM:i:0\n",
      "SRR13516818.10\t0\tchr7\t6442445\t255\t50M\t*\t0\t0\tTNTGCAAAGACCTTCGTCTTTGAGAAGACGGTAGCTTCTGCAGTTAGGAG\tF#FFFFFFFFFFF:FFFFFFFFFFF::FFF:FFFFFFFFFFFFFFFFFFF\tNH:i:1\tHI:i:1\tAS:i:48\tnM:i:0\n",
      "SRR13516818.11\t0\tchr8\t61533981\t255\t50M\t*\t0\t0\tANAATATGCTTAATGTATATTACAAAGGCTTTGTATATGTTAACCTGTTT\tF#FFFFFFFFFFFFFFFFFFFFFFFFFFFF:FFFFFFFFFFFFFFFFFFF\tNH:i:1\tHI:i:1\tAS:i:48\tnM:i:0\n"
     ]
    }
   ],
   "source": [
    "head -40 SRR13516818_1.fastq.Aligned.out.sam | grep -v '^@'"
   ]
  },
  {
   "cell_type": "markdown",
   "metadata": {},
   "source": [
    "#### Convert sam to bam files using `samtools`"
   ]
  },
  {
   "cell_type": "code",
   "execution_count": 34,
   "metadata": {},
   "outputs": [
    {
     "name": "stdout",
     "output_type": "stream",
     "text": [
      "[bam_sort_core] merging from 8 files and 1 in-memory blocks...\n",
      "[bam_sort_core] merging from 12 files and 1 in-memory blocks...\n",
      "[bam_sort_core] merging from 9 files and 1 in-memory blocks...\n",
      "[bam_sort_core] merging from 10 files and 1 in-memory blocks...\n"
     ]
    }
   ],
   "source": [
    "#!/bin/bash\n",
    "for filename in /mnt/storage/$USER/jupyternotebooks/Assignment/*.fastq; \n",
    "do\n",
    "    samtools sort -o $filename.bam $filename.Aligned.out.sam\n",
    "done"
   ]
  },
  {
   "cell_type": "code",
   "execution_count": 35,
   "metadata": {},
   "outputs": [
    {
     "name": "stdout",
     "output_type": "stream",
     "text": [
      "-rw-r--r-- 1 r0829308 domain users 557561505 Nov 29 23:56 SRR13516818_1.fastq.bam\n",
      "-rw-r--r-- 1 r0829308 domain users 790438151 Nov 30 00:00 SRR13516819_1.fastq.bam\n",
      "-rw-r--r-- 1 r0829308 domain users 580905214 Nov 30 00:04 SRR13516821_1.fastq.bam\n",
      "-rw-r--r-- 1 r0829308 domain users 642591761 Nov 30 00:08 SRR13516823_1.fastq.bam\n"
     ]
    }
   ],
   "source": [
    "ls -l *.bam\n",
    "#notice the presence of bam files for each treatment"
   ]
  },
  {
   "cell_type": "code",
   "execution_count": 37,
   "metadata": {},
   "outputs": [],
   "source": [
    "#generate an index file \n",
    "#!/bin/bash\n",
    "for filename in /mnt/storage/$USER/jupyternotebooks/Assignment/*.fastq; \n",
    "do\n",
    "    samtools index $filename.bam\n",
    "done"
   ]
  },
  {
   "cell_type": "code",
   "execution_count": 38,
   "metadata": {},
   "outputs": [
    {
     "name": "stdout",
     "output_type": "stream",
     "text": [
      "-rw-r--r-- 1 r0829308 domain users 2809016 Nov 30 00:14 SRR13516818_1.fastq.bam.bai\n",
      "-rw-r--r-- 1 r0829308 domain users 3063528 Nov 30 00:14 SRR13516819_1.fastq.bam.bai\n",
      "-rw-r--r-- 1 r0829308 domain users 2677232 Nov 30 00:15 SRR13516821_1.fastq.bam.bai\n",
      "-rw-r--r-- 1 r0829308 domain users 2834344 Nov 30 00:15 SRR13516823_1.fastq.bam.bai\n"
     ]
    }
   ],
   "source": [
    "ls -l *.bai"
   ]
  },
  {
   "cell_type": "code",
   "execution_count": 39,
   "metadata": {},
   "outputs": [
    {
     "name": "stdout",
     "output_type": "stream",
     "text": [
      "-rw-r--r-- 1 r0829308 domain users  7162954163 Nov 29 22:34 SRR13516818_1.fastq.Aligned.out.sam\n",
      "-rw-r--r-- 1 r0829308 domain users   557561505 Nov 29 23:56 SRR13516818_1.fastq.bam\n",
      "-rw-r--r-- 1 r0829308 domain users     2809016 Nov 30 00:14 SRR13516818_1.fastq.bam.bai\n",
      "-rw-r--r-- 1 r0829308 domain users 10299467879 Nov 29 22:43 SRR13516819_1.fastq.Aligned.out.sam\n",
      "-rw-r--r-- 1 r0829308 domain users   790438151 Nov 30 00:00 SRR13516819_1.fastq.bam\n",
      "-rw-r--r-- 1 r0829308 domain users     3063528 Nov 30 00:14 SRR13516819_1.fastq.bam.bai\n",
      "-rw-r--r-- 1 r0829308 domain users  7889097735 Nov 29 22:50 SRR13516821_1.fastq.Aligned.out.sam\n",
      "-rw-r--r-- 1 r0829308 domain users   580905214 Nov 30 00:04 SRR13516821_1.fastq.bam\n",
      "-rw-r--r-- 1 r0829308 domain users     2677232 Nov 30 00:15 SRR13516821_1.fastq.bam.bai\n",
      "-rw-r--r-- 1 r0829308 domain users  8446737478 Nov 29 22:56 SRR13516823_1.fastq.Aligned.out.sam\n",
      "-rw-r--r-- 1 r0829308 domain users   642591761 Nov 30 00:08 SRR13516823_1.fastq.bam\n",
      "-rw-r--r-- 1 r0829308 domain users     2834344 Nov 30 00:15 SRR13516823_1.fastq.bam.bai\n"
     ]
    }
   ],
   "source": [
    "#check the presence of the sam/bam/bai files\n",
    "ls -l *[bs]a[mi]"
   ]
  },
  {
   "cell_type": "markdown",
   "metadata": {},
   "source": [
    "### Inspect the BAM file(s)"
   ]
  },
  {
   "cell_type": "code",
   "execution_count": 41,
   "metadata": {},
   "outputs": [
    {
     "name": "stdout",
     "output_type": "stream",
     "text": [
      "SRR13516818.44629\t0\tchrM\t1\t255\t3S47M\t*\t0\t0\tATGGATCACAGGTCTATCACCCTATTAACCACTCACGGGAGCTCTCCATG\tFFFFFFFFFFFFFFFFFFFFFFF,FFFFF:FF:FFF:FFFFFFF,FFFFF\tNH:i:1\tHI:i:1\tAS:i:46\tnM:i:0\n",
      "SRR13516818.1375092\t0\tchrM\t1\t255\t3S47M\t*\t0\t0\tATGGATCACAGGTCTATCACCCTATTAACCACTCACGGGAGCTCTCCATG\tFFFFFFFFFFFFFFFFFFFFFFF:FFFFFFFFFFFFFFFFFFFFFFFFFF\tNH:i:1\tHI:i:1\tAS:i:46\tnM:i:0\n",
      "SRR13516818.2108425\t0\tchrM\t1\t255\t3S47M\t*\t0\t0\tATGGATCACAGGTCTATCACCCTATTAACCACTCACGGGAGCTCTCCATG\tFFFFFFFFFFFFFFFFFFFFFFFFFFFFFFFFFFFFFFFFFFFFFFFFFF\tNH:i:1\tHI:i:1\tAS:i:46\tnM:i:0\n",
      "samtools view: writing to standard output failed: Broken pipe\n",
      "samtools view: error closing standard output: -1\n"
     ]
    }
   ],
   "source": [
    "#inspect the bam file\n",
    "samtools view SRR13516818_1.fastq.bam | head -3"
   ]
  },
  {
   "cell_type": "markdown",
   "metadata": {},
   "source": [
    "With `samtools idxstats` we check how many reads map to each chromosome"
   ]
  },
  {
   "cell_type": "code",
   "execution_count": 42,
   "metadata": {},
   "outputs": [
    {
     "name": "stdout",
     "output_type": "stream",
     "text": [
      "/mnt/storage/r0829308/jupyternotebooks/Assignment/SRR13516818_1.fastq\n",
      "chrM\t16571\t448238\t0\n",
      "chr1\t249250621\t4002904\t0\n",
      "chr2\t243199373\t3167089\t0\n",
      "chr3\t198022430\t2376001\t0\n",
      "chr4\t191154276\t1567011\t0\n",
      "chr5\t180915260\t2286799\t0\n",
      "chr6\t171115067\t2076256\t0\n",
      "chr7\t159138663\t1916138\t0\n",
      "chr8\t146364022\t1290835\t0\n",
      "chr9\t141213431\t1375984\t0\n",
      "chr10\t135534747\t1472035\t0\n",
      "chr11\t135006516\t1900831\t0\n",
      "chr12\t133851895\t2624576\t0\n",
      "chr13\t115169878\t868959\t0\n",
      "chr14\t107349540\t1203185\t0\n",
      "chr15\t102531392\t1132161\t0\n",
      "chr16\t90354753\t1507230\t0\n",
      "chr17\t81195210\t2104733\t0\n",
      "chr18\t78077248\t578034\t0\n",
      "chr19\t59128983\t1412524\t0\n",
      "chr20\t63025520\t1044821\t0\n",
      "chr21\t48129895\t358809\t0\n",
      "chr22\t51304566\t791467\t0\n",
      "chrX\t155270560\t1416151\t0\n",
      "chrY\t59373566\t99246\t0\n",
      "*\t0\t0\t0\n",
      "---------------------------------\n",
      "/mnt/storage/r0829308/jupyternotebooks/Assignment/SRR13516819_1.fastq\n",
      "chrM\t16571\t696528\t0\n",
      "chr1\t249250621\t5759445\t0\n",
      "chr2\t243199373\t4455162\t0\n",
      "chr3\t198022430\t3341906\t0\n",
      "chr4\t191154276\t2157280\t0\n",
      "chr5\t180915260\t3236984\t0\n",
      "chr6\t171115067\t2995438\t0\n",
      "chr7\t159138663\t2766003\t0\n",
      "chr8\t146364022\t1804726\t0\n",
      "chr9\t141213431\t2000751\t0\n",
      "chr10\t135534747\t2087252\t0\n",
      "chr11\t135006516\t2764006\t0\n",
      "chr12\t133851895\t3759565\t0\n",
      "chr13\t115169878\t1224498\t0\n",
      "chr14\t107349540\t1701026\t0\n",
      "chr15\t102531392\t1606261\t0\n",
      "chr16\t90354753\t2266466\t0\n",
      "chr17\t81195210\t3091789\t0\n",
      "chr18\t78077248\t818066\t0\n",
      "chr19\t59128983\t2170153\t0\n",
      "chr20\t63025520\t1521488\t0\n",
      "chr21\t48129895\t502597\t0\n",
      "chr22\t51304566\t1158544\t0\n",
      "chrX\t155270560\t2037323\t0\n",
      "chrY\t59373566\t149361\t0\n",
      "*\t0\t0\t0\n",
      "---------------------------------\n",
      "/mnt/storage/r0829308/jupyternotebooks/Assignment/SRR13516821_1.fastq\n",
      "chrM\t16571\t640415\t0\n",
      "chr1\t249250621\t4462321\t0\n",
      "chr2\t243199373\t3528287\t0\n",
      "chr3\t198022430\t2328245\t0\n",
      "chr4\t191154276\t1590912\t0\n",
      "chr5\t180915260\t2463245\t0\n",
      "chr6\t171115067\t2245981\t0\n",
      "chr7\t159138663\t2145143\t0\n",
      "chr8\t146364022\t1313835\t0\n",
      "chr9\t141213431\t1463184\t0\n",
      "chr10\t135534747\t1587199\t0\n",
      "chr11\t135006516\t2162811\t0\n",
      "chr12\t133851895\t3200987\t0\n",
      "chr13\t115169878\t892333\t0\n",
      "chr14\t107349540\t1370201\t0\n",
      "chr15\t102531392\t1157909\t0\n",
      "chr16\t90354753\t1682687\t0\n",
      "chr17\t81195210\t2465506\t0\n",
      "chr18\t78077248\t604205\t0\n",
      "chr19\t59128983\t1555462\t0\n",
      "chr20\t63025520\t1126030\t0\n",
      "chr21\t48129895\t403637\t0\n",
      "chr22\t51304566\t849027\t0\n",
      "chrX\t155270560\t1628775\t0\n",
      "chrY\t59373566\t104662\t0\n",
      "*\t0\t0\t0\n",
      "---------------------------------\n",
      "/mnt/storage/r0829308/jupyternotebooks/Assignment/SRR13516823_1.fastq\n",
      "chrM\t16571\t697622\t0\n",
      "chr1\t249250621\t4771048\t0\n",
      "chr2\t243199373\t3724086\t0\n",
      "chr3\t198022430\t2501125\t0\n",
      "chr4\t191154276\t1683175\t0\n",
      "chr5\t180915260\t2601451\t0\n",
      "chr6\t171115067\t2411381\t0\n",
      "chr7\t159138663\t2299887\t0\n",
      "chr8\t146364022\t1380857\t0\n",
      "chr9\t141213431\t1560598\t0\n",
      "chr10\t135534747\t1685908\t0\n",
      "chr11\t135006516\t2335213\t0\n",
      "chr12\t133851895\t3386022\t0\n",
      "chr13\t115169878\t952600\t0\n",
      "chr14\t107349540\t1462650\t0\n",
      "chr15\t102531392\t1229378\t0\n",
      "chr16\t90354753\t1829197\t0\n",
      "chr17\t81195210\t2675533\t0\n",
      "chr18\t78077248\t637190\t0\n",
      "chr19\t59128983\t1739025\t0\n",
      "chr20\t63025520\t1224356\t0\n",
      "chr21\t48129895\t428807\t0\n",
      "chr22\t51304566\t930226\t0\n",
      "chrX\t155270560\t1738678\t0\n",
      "chrY\t59373566\t114205\t0\n",
      "*\t0\t0\t0\n",
      "---------------------------------\n"
     ]
    }
   ],
   "source": [
    "#!/bin/bash\n",
    "for filename in /mnt/storage/$USER/jupyternotebooks/Assignment/*.fastq; \n",
    "do\n",
    "    echo $filename\n",
    "    samtools idxstats $filename.bam\n",
    "    echo '---------------------------------'\n",
    "done"
   ]
  },
  {
   "cell_type": "markdown",
   "metadata": {},
   "source": [
    "Running `samtools flagstat` tells us what the distribution of mapping flags (column 2 in the sam/bam file) is:\n",
    "\n",
    "    0x0001\tp\tthe read is paired in sequencing\n",
    "    0x0002\tP\tthe read is mapped in a proper pair\n",
    "    0x0004\tu\tthe query sequence itself is unmapped\n",
    "    0x0008\tU\tthe mate is unmapped\n",
    "    0x0010\tr\tstrand of the query (1 for reverse)\n",
    "    0x0020\tR\tstrand of the mate\n",
    "    0x0040\t1\tthe read is the first read in a pair\n",
    "    0x0080\t2\tthe read is the second read in a pair\n",
    "    0x0100\ts\tthe alignment is not primary\n",
    "    0x0200\tf\tthe read fails platform/vendor quality checks\n",
    "    0x0400\td\tthe read is either a PCR or an optical duplicate\n",
    "    0x0800\tS\tthe alignment is supplementary\n",
    "    \n",
    "See [here](http://www.htslib.org/doc/samtools.html) for a more extensive explanation of the `samtools flagstat` output"
   ]
  },
  {
   "cell_type": "code",
   "execution_count": 44,
   "metadata": {},
   "outputs": [
    {
     "name": "stdout",
     "output_type": "stream",
     "text": [
      "39022017 + 0 in total (QC-passed reads + QC-failed reads)\n",
      "5882764 + 0 secondary\n",
      "0 + 0 supplementary\n",
      "0 + 0 duplicates\n",
      "39022017 + 0 mapped (100.00% : N/A)\n",
      "0 + 0 paired in sequencing\n",
      "0 + 0 read1\n",
      "0 + 0 read2\n",
      "0 + 0 properly paired (N/A : N/A)\n",
      "0 + 0 with itself and mate mapped\n",
      "0 + 0 singletons (N/A : N/A)\n",
      "0 + 0 with mate mapped to a different chr\n",
      "0 + 0 with mate mapped to a different chr (mapQ>=5)\n",
      "--------------------------------\n",
      "56072618 + 0 in total (QC-passed reads + QC-failed reads)\n",
      "8828179 + 0 secondary\n",
      "0 + 0 supplementary\n",
      "0 + 0 duplicates\n",
      "56072618 + 0 mapped (100.00% : N/A)\n",
      "0 + 0 paired in sequencing\n",
      "0 + 0 read1\n",
      "0 + 0 read2\n",
      "0 + 0 properly paired (N/A : N/A)\n",
      "0 + 0 with itself and mate mapped\n",
      "0 + 0 singletons (N/A : N/A)\n",
      "0 + 0 with mate mapped to a different chr\n",
      "0 + 0 with mate mapped to a different chr (mapQ>=5)\n",
      "--------------------------------\n",
      "42972999 + 0 in total (QC-passed reads + QC-failed reads)\n",
      "7293840 + 0 secondary\n",
      "0 + 0 supplementary\n",
      "0 + 0 duplicates\n",
      "42972999 + 0 mapped (100.00% : N/A)\n",
      "0 + 0 paired in sequencing\n",
      "0 + 0 read1\n",
      "0 + 0 read2\n",
      "0 + 0 properly paired (N/A : N/A)\n",
      "0 + 0 with itself and mate mapped\n",
      "0 + 0 singletons (N/A : N/A)\n",
      "0 + 0 with mate mapped to a different chr\n",
      "0 + 0 with mate mapped to a different chr (mapQ>=5)\n",
      "--------------------------------\n",
      "46000218 + 0 in total (QC-passed reads + QC-failed reads)\n",
      "7948885 + 0 secondary\n",
      "0 + 0 supplementary\n",
      "0 + 0 duplicates\n",
      "46000218 + 0 mapped (100.00% : N/A)\n",
      "0 + 0 paired in sequencing\n",
      "0 + 0 read1\n",
      "0 + 0 read2\n",
      "0 + 0 properly paired (N/A : N/A)\n",
      "0 + 0 with itself and mate mapped\n",
      "0 + 0 singletons (N/A : N/A)\n",
      "0 + 0 with mate mapped to a different chr\n",
      "0 + 0 with mate mapped to a different chr (mapQ>=5)\n",
      "--------------------------------\n"
     ]
    }
   ],
   "source": [
    "#!/bin/bash\n",
    "for filename in /mnt/storage/$USER/jupyternotebooks/Assignment/*.fastq; \n",
    "do\n",
    "    samtools flagstat $filename.bam\n",
    "    echo '--------------------------------'\n",
    "done"
   ]
  },
  {
   "cell_type": "markdown",
   "metadata": {},
   "source": [
    "### Reads to gene counts"
   ]
  },
  {
   "cell_type": "markdown",
   "metadata": {},
   "source": [
    "First we'll make a symbolic link to (**a part of!**) the human annotation.\n",
    "\n",
    "Note, if you want to do this for your own project, a full gtf file (containing all chromosomes) can be found in:\n",
    "\n",
    "    /mnt/nfs/data/RNA-seq/gencode.v19.nopseudo.plus.sort.gtf"
   ]
  },
  {
   "cell_type": "code",
   "execution_count": 45,
   "metadata": {},
   "outputs": [
    {
     "name": "stdout",
     "output_type": "stream",
     "text": [
      "lrwxrwxrwx 1 r0829308 domain users 56 Nov 30 00:21 gencode.v19.nopseudo.plus.sort.gtf -> /mnt/nfs/data/RNA-seq/gencode.v19.nopseudo.plus.sort.gtf\n"
     ]
    }
   ],
   "source": [
    "ln -sf /mnt/nfs/data/RNA-seq/gencode.v19.nopseudo.plus.sort.gtf .\n",
    "ls -l *gtf"
   ]
  },
  {
   "cell_type": "code",
   "execution_count": 50,
   "metadata": {},
   "outputs": [
    {
     "name": "stdout",
     "output_type": "stream",
     "text": [
      "\n",
      "       \u001b[44;37m ========== \u001b[0m\u001b[36m    _____ _    _ ____  _____  ______          _____  \n",
      "       \u001b[44;37m =====      \u001b[0m\u001b[36m   / ____| |  | |  _ \\|  __ \\|  ____|   /\\   |  __ \\ \n",
      "       \u001b[44;37m   =====    \u001b[0m\u001b[36m  | (___ | |  | | |_) | |__) | |__     /  \\  | |  | |\n",
      "       \u001b[44;37m     ====   \u001b[0m\u001b[36m   \\___ \\| |  | |  _ <|  _  /|  __|   / /\\ \\ | |  | |\n",
      "       \u001b[44;37m       ==== \u001b[0m\u001b[36m   ____) | |__| | |_) | | \\ \\| |____ / ____ \\| |__| |\n",
      "       \u001b[44;37m ========== \u001b[0m\u001b[36m  |_____/ \\____/|____/|_|  \\_\\______/_/    \\_\\_____/\u001b[0m\n",
      "\t  v1.6.0\n",
      "\n",
      "//==========================\u001b[36m featureCounts setting \u001b[0m===========================\\\\\n",
      "||  \u001b[0m                                                                          ||\n",
      "||             Input files : \u001b[36m4 BAM files  \u001b[0m \u001b[0m                                   ||\n",
      "||                           \u001b[32mS\u001b[36m SRR13516818_1.fastq.bam\u001b[0m \u001b[0m                       ||\n",
      "||                           \u001b[32mS\u001b[36m SRR13516819_1.fastq.bam\u001b[0m \u001b[0m                       ||\n",
      "||                           \u001b[32mS\u001b[36m SRR13516821_1.fastq.bam\u001b[0m \u001b[0m                       ||\n",
      "||                           \u001b[32mS\u001b[36m SRR13516823_1.fastq.bam\u001b[0m \u001b[0m                       ||\n",
      "||  \u001b[0m                                                                          ||\n",
      "||             Output file : \u001b[36mall.counts\u001b[0m \u001b[0m                                      ||\n",
      "||                 Summary : \u001b[36mall.counts.summary\u001b[0m \u001b[0m                              ||\n",
      "||              Annotation : \u001b[36m/mnt/nfs/data/RNA-seq/gencode.v19.nopseudo.p\u001b[0m ...\u001b[0m \u001b[0m||\n",
      "||      Dir for temp files : \u001b[36m./\u001b[0m \u001b[0m                                              ||\n",
      "||  \u001b[0m                                                                          ||\n",
      "||                 Threads : \u001b[36m1\u001b[0m \u001b[0m                                               ||\n",
      "||                   Level : \u001b[36mmeta-feature level\u001b[0m \u001b[0m                              ||\n",
      "||              Paired-end : \u001b[36mno\u001b[0m \u001b[0m                                              ||\n",
      "||         Strand specific : \u001b[36mno\u001b[0m \u001b[0m                                              ||\n",
      "||      Multimapping reads : \u001b[36mnot counted\u001b[0m \u001b[0m                                     ||\n",
      "|| Multi-overlapping reads : \u001b[36mnot counted\u001b[0m \u001b[0m                                     ||\n",
      "||   Min overlapping bases : \u001b[36m1\u001b[0m \u001b[0m                                               ||\n",
      "||  \u001b[0m                                                                          ||\n",
      "\\\\=====================\u001b[36m http://subread.sourceforge.net/ \u001b[0m======================//\n",
      "\n",
      "//=================================\u001b[36m Running \u001b[0m==================================\\\\\n",
      "||  \u001b[0m                                                                          ||\n",
      "|| Load annotation file /mnt/nfs/data/RNA-seq/gencode.v19.nopseudo.plus.s\u001b[0m ... \u001b[0m||\n",
      "||    Features : \u001b[36m1156385\u001b[0m \u001b[0m                                                     ||\n",
      "||    Meta-features : \u001b[36m41863\u001b[0m \u001b[0m                                                  ||\n",
      "||    Chromosomes/contigs : \u001b[36m25\u001b[0m \u001b[0m                                               ||\n",
      "||  \u001b[0m                                                                          ||\n",
      "|| Process BAM file SRR13516818_1.fastq.bam... \u001b[0m                               ||\n",
      "||    Single-end reads are included. \u001b[0m                                         ||\n",
      "||    Assign reads to features... \u001b[0m                                            ||\n",
      "||    Total reads : \u001b[36m39022017\u001b[0m \u001b[0m                                                 ||\n",
      "||    Successfully assigned reads : \u001b[36m25737451 (66.0%)\u001b[0m \u001b[0m                         ||\n",
      "||    Running time : \u001b[36m0.38 minutes\u001b[0m \u001b[0m                                            ||\n",
      "||  \u001b[0m                                                                          ||\n",
      "|| Process BAM file SRR13516819_1.fastq.bam... \u001b[0m                               ||\n",
      "||    Single-end reads are included. \u001b[0m                                         ||\n",
      "||    Assign reads to features... \u001b[0m                                            ||\n",
      "||    Total reads : \u001b[36m56072618\u001b[0m \u001b[0m                                                 ||\n",
      "||    Successfully assigned reads : \u001b[36m36535778 (65.2%)\u001b[0m \u001b[0m                         ||\n",
      "||    Running time : \u001b[36m0.54 minutes\u001b[0m \u001b[0m                                            ||\n",
      "||  \u001b[0m                                                                          ||\n",
      "|| Process BAM file SRR13516821_1.fastq.bam... \u001b[0m                               ||\n",
      "||    Single-end reads are included. \u001b[0m                                         ||\n",
      "||    Assign reads to features... \u001b[0m                                            ||\n",
      "||    Total reads : \u001b[36m42972999\u001b[0m \u001b[0m                                                 ||\n",
      "||    Successfully assigned reads : \u001b[36m27532411 (64.1%)\u001b[0m \u001b[0m                         ||\n",
      "||    Running time : \u001b[36m0.41 minutes\u001b[0m \u001b[0m                                            ||\n",
      "||  \u001b[0m                                                                          ||\n",
      "|| Process BAM file SRR13516823_1.fastq.bam... \u001b[0m                               ||\n",
      "||    Single-end reads are included. \u001b[0m                                         ||\n",
      "||    Assign reads to features... \u001b[0m                                            ||\n",
      "||    Total reads : \u001b[36m46000218\u001b[0m \u001b[0m                                                 ||\n",
      "||    Successfully assigned reads : \u001b[36m29345927 (63.8%)\u001b[0m \u001b[0m                         ||\n",
      "||    Running time : \u001b[36m0.45 minutes\u001b[0m \u001b[0m                                            ||\n",
      "||  \u001b[0m                                                                          ||\n",
      "||                         \u001b[36mRead assignment finished.\u001b[0m \u001b[0m                         ||\n",
      "||  \u001b[0m                                                                          ||\n",
      "|| Summary of counting results can be found in file \"all.counts.summary\" \u001b[0m     ||\n",
      "||  \u001b[0m                                                                          ||\n",
      "\\\\=====================\u001b[36m http://subread.sourceforge.net/ \u001b[0m======================//\n",
      "\n"
     ]
    }
   ],
   "source": [
    "featureCounts -Q 10 -g gene_name -a /mnt/nfs/data/RNA-seq/gencode.v19.nopseudo.plus.sort.gtf -o all.counts SRR13516818_1.fastq.bam SRR13516819_1.fastq.bam SRR13516821_1.fastq.bam SRR13516823_1.fastq.bam "
   ]
  },
  {
   "cell_type": "code",
   "execution_count": 51,
   "metadata": {},
   "outputs": [
    {
     "name": "stdout",
     "output_type": "stream",
     "text": [
      "-rw-r--r-- 1 r0829308 domain users 30949261 Nov 30 12:36 all.counts\n",
      "-rw-r--r-- 1 r0829308 domain users      564 Nov 30 12:36 all.counts.summary\n"
     ]
    }
   ],
   "source": [
    "#check the presence of two files: all.counts and all.counts.summary\n",
    "ls -l *count*"
   ]
  },
  {
   "cell_type": "code",
   "execution_count": 53,
   "metadata": {},
   "outputs": [
    {
     "name": "stdout",
     "output_type": "stream",
     "text": [
      "# Program:featureCounts v1.6.0; Command:\"featureCounts\" \"-Q\" \"10\" \"-g\" \"gene_name\" \"-a\" \"/mnt/nfs/data/RNA-seq/gencode.v19.nopseudo.plus.sort.gtf\" \"-o\" \"all.counts\" \"SRR13516818_1.fastq.bam\" \"SRR13516819_1.fastq.bam\" \"SRR13516821_1.fastq.bam\" \"SRR13516823_1.fastq.bam\" \n",
      "Geneid\tChr\tStart\tEnd\tStrand\tLength\tSRR13516818_1.fastq.bam\tSRR13516819_1.fastq.bam\tSRR13516821_1.fastq.bam\tSRR13516823_1.fastq.bam\n",
      "MIR1302-11\tchr1;chr1;chr1;chr1;chr1;chr1\t29554;30267;30366;30564;30976;30976\t30039;30667;30503;30667;31097;31109\t+;+;+;+;+;+\t1021\t0\t0\t0\t0\n",
      "FAM138A\tchr1;chr1;chr1;chr1;chr1\t34554;35245;35277;35721;35721\t35174;35481;35481;36073;36081\t-;-;-;-;-\t1219\t0\t0\t0\t0\n",
      "OR4F5\tchr1\t69091\t70008\t+\t918\t0\t0\t0\t0\n",
      "RP11-34P13.7\tchr1;chr1;chr1;chr1;chr1;chr1;chr1;chr1;chr1;chr1;chr1;chr1;chr1\t89295;92091;92230;110953;112700;112700;112700;120721;120775;129055;129055;129081;133374\t91629;92240;92240;111357;112804;112804;112804;120932;120932;129173;129217;129223;133566\t-;-;-;-;-;-;-;-;-;-;-;-;-\t3569\t0\t0\t0\t0\n",
      "RP11-34P13.8\tchr1;chr1\t89551;90287\t90050;91105\t-;-\t1319\t0\t0\t0\t0\n",
      "AL627309.1\tchr1;chr1\t134901;137621\t135802;139379\t-;-\t2661\t0\t0\t0\t0\n",
      "RP11-34P13.14\tchr1;chr1\t139790;140075\t139847;140339\t-;-\t323\t0\t0\t0\t0\n",
      "RP11-34P13.13\tchr1;chr1;chr1;chr1;chr1;chr1;chr1;chr1;chr1;chr1;chr1;chr1;chr1;chr1;chr1;chr1\t141474;142808;146386;146386;146386;146642;155767;164263;165884;165889;168100;168100;168610;169049;172557;173753\t143011;143011;146509;146509;149707;146831;155831;164791;165942;165942;168165;168165;168767;169264;172688;173862\t-;-;-;-;-;-;-;-;-;-;-;-;-;-;-;-\t6195\t0\t0\t0\t0\n"
     ]
    }
   ],
   "source": [
    "head all.counts"
   ]
  },
  {
   "cell_type": "code",
   "execution_count": 52,
   "metadata": {},
   "outputs": [
    {
     "name": "stdout",
     "output_type": "stream",
     "text": [
      "Status\tSRR13516818_1.fastq.bam\tSRR13516819_1.fastq.bam\tSRR13516821_1.fastq.bam\tSRR13516823_1.fastq.bam\n",
      "Assigned\t25737451\t36535778\t27532411\t29345927\n",
      "Unassigned_Unmapped\t0\t0\t0\t0\n",
      "Unassigned_MappingQuality\t8920095\t13358916\t11211380\t12191661\n",
      "Unassigned_Chimera\t0\t0\t0\t0\n",
      "Unassigned_FragmentLength\t0\t0\t0\t0\n",
      "Unassigned_Duplicate\t0\t0\t0\t0\n",
      "Unassigned_MultiMapping\t0\t0\t0\t0\n",
      "Unassigned_Secondary\t0\t0\t0\t0\n",
      "Unassigned_Nonjunction\t0\t0\t0\t0\n"
     ]
    }
   ],
   "source": [
    "head all.counts.summary"
   ]
  },
  {
   "cell_type": "markdown",
   "metadata": {},
   "source": [
    "Note that there are a number of columns on the gene structure, and a number with the actual counts. We'll separate these:"
   ]
  },
  {
   "cell_type": "code",
   "execution_count": 54,
   "metadata": {},
   "outputs": [],
   "source": [
    "cut -f-6 all.counts  > all.genedata.tsv"
   ]
  },
  {
   "cell_type": "code",
   "execution_count": 55,
   "metadata": {},
   "outputs": [
    {
     "name": "stdout",
     "output_type": "stream",
     "text": [
      "# Program:featureCounts v1.6.0; Command:\"featureCounts\" \"-Q\" \"10\" \"-g\" \"gene_name\" \"-a\" \"/mnt/nfs/data/RNA-seq/gencode.v19.nopseudo.plus.sort.gtf\" \"-o\" \"all.counts\" \"SRR13516818_1.fastq.bam\" \"SRR13516819_1.fastq.bam\" \"SRR13516821_1.fastq.bam\" \"SRR13516823_1.fastq.bam\" \n",
      "Geneid\tChr\tStart\tEnd\tStrand\tLength\n",
      "MIR1302-11\tchr1;chr1;chr1;chr1;chr1;chr1\t29554;30267;30366;30564;30976;30976\t30039;30667;30503;30667;31097;31109\t+;+;+;+;+;+\t1021\n",
      "FAM138A\tchr1;chr1;chr1;chr1;chr1\t34554;35245;35277;35721;35721\t35174;35481;35481;36073;36081\t-;-;-;-;-\t1219\n",
      "OR4F5\tchr1\t69091\t70008\t+\t918\n",
      "RP11-34P13.7\tchr1;chr1;chr1;chr1;chr1;chr1;chr1;chr1;chr1;chr1;chr1;chr1;chr1\t89295;92091;92230;110953;112700;112700;112700;120721;120775;129055;129055;129081;133374\t91629;92240;92240;111357;112804;112804;112804;120932;120932;129173;129217;129223;133566\t-;-;-;-;-;-;-;-;-;-;-;-;-\t3569\n",
      "RP11-34P13.8\tchr1;chr1\t89551;90287\t90050;91105\t-;-\t1319\n",
      "AL627309.1\tchr1;chr1\t134901;137621\t135802;139379\t-;-\t2661\n",
      "RP11-34P13.14\tchr1;chr1\t139790;140075\t139847;140339\t-;-\t323\n",
      "RP11-34P13.13\tchr1;chr1;chr1;chr1;chr1;chr1;chr1;chr1;chr1;chr1;chr1;chr1;chr1;chr1;chr1;chr1\t141474;142808;146386;146386;146386;146642;155767;164263;165884;165889;168100;168100;168610;169049;172557;173753\t143011;143011;146509;146509;149707;146831;155831;164791;165942;165942;168165;168165;168767;169264;172688;173862\t-;-;-;-;-;-;-;-;-;-;-;-;-;-;-;-\t6195\n"
     ]
    }
   ],
   "source": [
    "head all.genedata.tsv"
   ]
  },
  {
   "cell_type": "code",
   "execution_count": 56,
   "metadata": {},
   "outputs": [],
   "source": [
    "cut -f1,7- all.counts | grep -v '^#' > all.gene.counts"
   ]
  },
  {
   "cell_type": "code",
   "execution_count": 61,
   "metadata": {},
   "outputs": [
    {
     "name": "stdout",
     "output_type": "stream",
     "text": [
      "Geneid\tSRR13516818_1.fastq.bam\tSRR13516819_1.fastq.bam\tSRR13516821_1.fastq.bam\tSRR13516823_1.fastq.bam\n",
      "MIR1302-11\t0\t0\t0\t0\n",
      "FAM138A\t0\t0\t0\t0\n",
      "OR4F5\t0\t0\t0\t0\n",
      "RP11-34P13.7\t0\t0\t0\t0\n",
      "RP11-34P13.8\t0\t0\t0\t0\n",
      "AL627309.1\t0\t0\t0\t0\n",
      "RP11-34P13.14\t0\t0\t0\t0\n",
      "RP11-34P13.13\t0\t0\t0\t0\n",
      "RNU6-1100P\t0\t0\t0\t0\n",
      "41864 all.gene.counts\n"
     ]
    }
   ],
   "source": [
    "head all.gene.counts\n",
    "\n",
    "wc -l all.gene.counts\n",
    "#in total, 41 864 genes are analysed"
   ]
  },
  {
   "cell_type": "markdown",
   "metadata": {},
   "source": [
    "The paper did not mention control genes. However, they identified a load of genes that are involved in regulation of mTOR, mitochondrial translation, global translation and ribosome biogenesis. We sampled three genes that encode for three well-know mTORc1 negative regulators. MTOR gene was also included.  \n",
    "For more information, please refer to the master report - <i> Introduction and Context </i>. "
   ]
  },
  {
   "cell_type": "code",
   "execution_count": 1,
   "metadata": {},
   "outputs": [
    {
     "name": "stdout",
     "output_type": "stream",
     "text": [
      "MTOR\t4383\t6679\t5240\t5362\n",
      "MTOR-AS1\t0\t0\t0\t0\n",
      "RNF152\t297\t404\t94\t39\n",
      "SESN2\t3775\t6668\t1655\t2100\n",
      "SESN3\t24\t53\t0\t2\n",
      "FNIP1\t2602\t3425\t1048\t1064\n",
      "RRAGD\t1710\t2656\t775\t1038\n"
     ]
    }
   ],
   "source": [
    "#compute the number of counts for genes of interest\n",
    "#!bin/bash \n",
    "for gene in MTOR RNF152 SESN2 SESN3 FNIP1 RRAGD;\n",
    "do\n",
    "    grep -w \"$gene\" all.gene.counts\n",
    "done"
   ]
  }
 ],
 "metadata": {
  "kernelspec": {
   "display_name": "Bash",
   "language": "bash",
   "name": "bash"
  },
  "language_info": {
   "codemirror_mode": "shell",
   "file_extension": ".sh",
   "mimetype": "text/x-sh",
   "name": "bash"
  }
 },
 "nbformat": 4,
 "nbformat_minor": 2
}
